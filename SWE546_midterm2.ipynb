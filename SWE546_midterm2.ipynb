{
 "cells": [
  {
   "cell_type": "code",
   "execution_count": 18,
   "metadata": {
    "collapsed": false
   },
   "outputs": [
    {
     "name": "stdout",
     "output_type": "stream",
     "text": [
      "A: [[ 2.03622435]]\n"
     ]
    }
   ],
   "source": [
    "import numpy as np\n",
    "\n",
    "X_2, X_4, X_6, A = 2,2,2,2\n",
    "\n",
    "for i in range(100):\n",
    "    Y = np.matrix(np.array([X_2, 4, X_4, 15.7, X_6, 61.2])).T\n",
    "    A = np.matrix(np.array([1, X_2, 4, X_4, 14.7, X_6])).T    \n",
    "    lsq = np.linalg.lstsq(A,Y)\n",
    "    A = lsq[0]\n",
    "    \n",
    "    X_2 = A * 1\n",
    "    X_4 = A * 4\n",
    "    X_6 = A * 14.7\n",
    "\n",
    "print(\"A: %s\" % A)"
   ]
  },
  {
   "cell_type": "code",
   "execution_count": null,
   "metadata": {
    "collapsed": true
   },
   "outputs": [],
   "source": []
  },
  {
   "cell_type": "code",
   "execution_count": null,
   "metadata": {
    "collapsed": true
   },
   "outputs": [],
   "source": []
  }
 ],
 "metadata": {
  "kernelspec": {
   "display_name": "Python [conda root]",
   "language": "python",
   "name": "conda-root-py"
  },
  "language_info": {
   "codemirror_mode": {
    "name": "ipython",
    "version": 3
   },
   "file_extension": ".py",
   "mimetype": "text/x-python",
   "name": "python",
   "nbconvert_exporter": "python",
   "pygments_lexer": "ipython3",
   "version": "3.5.2"
  }
 },
 "nbformat": 4,
 "nbformat_minor": 1
}
